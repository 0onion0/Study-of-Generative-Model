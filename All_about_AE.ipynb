{
 "cells": [
  {
   "cell_type": "markdown",
   "id": "a779e0f8",
   "metadata": {},
   "source": [
    "# 오토인코더의 모든 것 (1)\n",
    "\n",
    " https://www.youtube.com/watch?v=o_peo6U7IRM"
   ]
  },
  {
   "cell_type": "markdown",
   "id": "e78a9261",
   "metadata": {},
   "source": [
    "## 0. Introduction  \n",
    "\n",
    "4 main keywords of AE:  \n",
    "- 1. Unsupervised learning\n",
    "- 2. Manifold learning (차원 축소)\n",
    "- 3. Generative model learning\n",
    "- 4. ML density estimation"
   ]
  },
  {
   "cell_type": "markdown",
   "id": "6c8de547",
   "metadata": {},
   "source": [
    "## 1. Revisit Deep Neural Networks"
   ]
  },
  {
   "cell_type": "markdown",
   "id": "3301de92",
   "metadata": {},
   "source": [
    "## 2. Manifold Learning"
   ]
  },
  {
   "cell_type": "markdown",
   "id": "2f763117",
   "metadata": {},
   "source": [
    "## 3. Autoencoders"
   ]
  },
  {
   "cell_type": "markdown",
   "id": "c3a7ba16",
   "metadata": {},
   "source": [
    "## 4. Variational Autoencoders"
   ]
  },
  {
   "cell_type": "markdown",
   "id": "6d984cb4",
   "metadata": {},
   "source": [
    "## 5. Applications"
   ]
  },
  {
   "cell_type": "markdown",
   "id": "9f6203ac",
   "metadata": {},
   "source": []
  }
 ],
 "metadata": {
  "language_info": {
   "name": "python"
  }
 },
 "nbformat": 4,
 "nbformat_minor": 5
}
