{
 "cells": [
  {
   "cell_type": "markdown",
   "id": "a779e0f8",
   "metadata": {},
   "source": [
    "# 오토인코더의 모든 것 (1)\n",
    "\n",
    " https://www.youtube.com/watch?v=o_peo6U7IRM\n",
    "\n",
    "본 자료는 위 링크로 이어지는 유튜브 강의를 정리한 것입니다. "
   ]
  },
  {
   "cell_type": "markdown",
   "id": "e78a9261",
   "metadata": {},
   "source": [
    "## 0. Introduction  \n",
    "\n",
    "4 main keywords of AE:  \n",
    "- 1. Unsupervised learning\n",
    "- 2. Manifold learning (차원 축소)\n",
    "- 3. Generative model learning\n",
    "- 4. ML density estimation"
   ]
  },
  {
   "cell_type": "markdown",
   "id": "6c8de547",
   "metadata": {},
   "source": [
    "## 1. Revisit Deep Neural Networks"
   ]
  },
  {
   "cell_type": "markdown",
   "id": "74d92d54",
   "metadata": {},
   "source": [
    "### (1) Machine learning problem  \n",
    "  \n",
    "  머신러닝 과정에서의 의사 결정 과정:    \n",
    "  1) 데이터 모으기  \n",
    "  2) 함수 정의  - 모델 종류, 로스 func(아무거나 쓰면 안됨 by backpropagation)  \n",
    "   역전파를 통해 DNN을 학습시키기 위한 조건: \n",
    "   - 훈련 샘플의 전체 loss는 각 샘플의 loss의 합과 같다.\n",
    "   - 로스함수의 구성은 네트워크의 출력만으로 구성된다.\n",
    "  3) Learning/Training  \n",
    "  - Gradient Descent(Iterative method) : 로스값이 줄어드는 방향으로 계속 이동하고, 움직여도 로스값이 변함 없을 경우 멈춘다.\n",
    "  4) Predicting/Testing\n",
    "### (2) Loss function viewpoints I : Back-propagation\n",
    "### (3) Loss function viewpoints II : Maximum likelihood\n",
    "### (4) Maximum likelihood for autoencoders"
   ]
  },
  {
   "cell_type": "markdown",
   "id": "204d611a",
   "metadata": {},
   "source": []
  },
  {
   "cell_type": "markdown",
   "id": "3301de92",
   "metadata": {},
   "source": [
    "## 2. Manifold Learning"
   ]
  },
  {
   "cell_type": "markdown",
   "id": "2f763117",
   "metadata": {},
   "source": [
    "## 3. Autoencoders"
   ]
  },
  {
   "cell_type": "markdown",
   "id": "c3a7ba16",
   "metadata": {},
   "source": [
    "## 4. Variational Autoencoders"
   ]
  },
  {
   "cell_type": "markdown",
   "id": "6d984cb4",
   "metadata": {},
   "source": [
    "## 5. Applications"
   ]
  },
  {
   "cell_type": "markdown",
   "id": "9f6203ac",
   "metadata": {},
   "source": []
  }
 ],
 "metadata": {
  "language_info": {
   "name": "python"
  }
 },
 "nbformat": 4,
 "nbformat_minor": 5
}
